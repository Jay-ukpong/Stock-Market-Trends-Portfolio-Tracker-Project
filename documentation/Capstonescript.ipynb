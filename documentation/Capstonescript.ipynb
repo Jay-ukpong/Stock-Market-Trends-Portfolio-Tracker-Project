{
 "cells": [
  {
   "cell_type": "code",
   "execution_count": 1,
   "id": "61cb44e1-ab3e-46bb-92e2-ed316f3f732b",
   "metadata": {},
   "outputs": [
    {
     "name": "stdout",
     "output_type": "stream",
     "text": [
      "Downloading stock data...\n"
     ]
    },
    {
     "name": "stderr",
     "output_type": "stream",
     "text": [
      "C:\\Users\\Jossie-pc\\AppData\\Local\\Temp\\ipykernel_7336\\159188903.py:11: FutureWarning: YF.download() has changed argument auto_adjust default to True\n",
      "  data_ohlc = yf.download(tickers, period=period)\n",
      "[*********************100%***********************]  5 of 5 completed\n"
     ]
    },
    {
     "name": "stdout",
     "output_type": "stream",
     "text": [
      "✅ Data downloaded.\n",
      "✅ All calculations are complete.\n",
      "✅ OHLC data reshaped for loading.\n"
     ]
    },
    {
     "name": "stderr",
     "output_type": "stream",
     "text": [
      "C:\\Users\\Jossie-pc\\AppData\\Local\\Temp\\ipykernel_7336\\159188903.py:27: FutureWarning: The previous implementation of stack is deprecated and will be removed in a future version of pandas. See the What's New notes for pandas 2.1.0 for details. Specify future_stack=True to adopt the new implementation and silence this warning.\n",
      "  ohlc_long_format = data_ohlc.stack().reset_index().rename(columns={'level_1': 'Ticker'})\n"
     ]
    },
    {
     "name": "stdout",
     "output_type": "stream",
     "text": [
      "Database engine created.\n",
      "\n",
      "Loading data into schema: 'Stockprice'...\n",
      "✅ Table 'daily_ohlc_prices' loaded.\n",
      "✅ Table 'simple_moving_averages' loaded.\n",
      "✅ Table 'portfolio_performance' loaded.\n",
      "✅ Table 'stock_performance_ranking' loaded.\n",
      "\n",
      "All data has been successfully loaded.\n"
     ]
    }
   ],
   "source": [
    "import yfinance as yf\n",
    "import pandas as pd\n",
    "import numpy as np # <-- FIX 1: Corrected alias for NumPy\n",
    "from sqlalchemy import create_engine\n",
    "from urllib.parse import quote_plus\n",
    "\n",
    "# --- 1. Get and Prepare the Data ---\n",
    "tickers = [\"AAPL\", \"NVDA\", \"TSLA\", \"GOOGL\", \"MSFT\"]\n",
    "period = \"5y\"\n",
    "print(\"Downloading stock data...\")\n",
    "data_ohlc = yf.download(tickers, period=period)\n",
    "print(\"✅ Data downloaded.\")\n",
    "\n",
    "# --- 2. Calculations (No Changes Needed Here) ---\n",
    "close_prices = data_ohlc['Close']\n",
    "sma_df = pd.concat([close_prices.rolling(window=20).mean().add_suffix('_sma20'), \n",
    "                    close_prices.rolling(window=50).mean().add_suffix('_sma50')], axis=1)\n",
    "daily_returns = close_prices.pct_change()\n",
    "weights = np.array([0.20, 0.20, 0.20, 0.20, 0.20]) # <-- FIX 1: Using np.array\n",
    "portfolio_df = pd.DataFrame((1 + daily_returns.dot(weights)).cumprod(), columns=['cumulative_return'])\n",
    "total_returns = (1 + daily_returns).cumprod().iloc[-1]\n",
    "gainers_losers_df = pd.DataFrame(total_returns.sort_values(ascending=False), columns=['total_return_factor'])\n",
    "print(\"✅ All calculations are complete.\")\n",
    "\n",
    "# --- 3. Prepare the Original OHLC Data for SQL ---\n",
    "# NEW: Reshape the data from wide to long format for database-friendliness\n",
    "ohlc_long_format = data_ohlc.stack().reset_index().rename(columns={'level_1': 'Ticker'})\n",
    "print(\"✅ OHLC data reshaped for loading.\")\n",
    "\n",
    "# --- 4. Connect to PostgreSQL Database ---\n",
    "db_user = 'postgres'\n",
    "db_password = 'post123'\n",
    "db_host = 'localhost'\n",
    "db_port = '5432'\n",
    "db_name = 'postgres'\n",
    "connection_string = f\"postgresql://{db_user}:{db_password}@{db_host}:{db_port}/{db_name}\"\n",
    "engine = create_engine(connection_string)\n",
    "print(\"Database engine created.\")\n",
    "\n",
    "# --- 5. Load All DataFrames into the 'Stockprice' Schema ---\n",
    "schema_name = 'Stockprice' \n",
    "try:\n",
    "    print(f\"\\nLoading data into schema: '{schema_name}'...\")\n",
    "    \n",
    "    # NEW: Load the ORIGINAL OHLC data\n",
    "    ohlc_long_format.to_sql('daily_ohlc_prices', engine, schema=schema_name, if_exists='replace', index=False)\n",
    "    print(f\"✅ Table 'daily_ohlc_prices' loaded.\")\n",
    "    \n",
    "    # Load SMAs, Portfolio, and Ranking tables (as before)\n",
    "    sma_df.to_sql('simple_moving_averages', engine, schema=schema_name, if_exists='replace', index=True)\n",
    "    print(f\"✅ Table 'simple_moving_averages' loaded.\")\n",
    "    portfolio_df.to_sql('portfolio_performance', engine, schema=schema_name, if_exists='replace', index=True)\n",
    "    print(f\"✅ Table 'portfolio_performance' loaded.\")\n",
    "    gainers_losers_df.to_sql('stock_performance_ranking', engine, schema=schema_name, if_exists='replace', index=True)\n",
    "    print(f\"✅ Table 'stock_performance_ranking' loaded.\")\n",
    "    \n",
    "    print(\"\\nAll data has been successfully loaded.\")\n",
    "except Exception as e:\n",
    "    print(f\"🔥 An error occurred: {e}\")"
   ]
  },
  {
   "cell_type": "code",
   "execution_count": null,
   "id": "c1a7998e-a136-41e8-8496-13df43fc28e7",
   "metadata": {},
   "outputs": [],
   "source": []
  }
 ],
 "metadata": {
  "kernelspec": {
   "display_name": "Python 3 (ipykernel)",
   "language": "python",
   "name": "python3"
  },
  "language_info": {
   "codemirror_mode": {
    "name": "ipython",
    "version": 3
   },
   "file_extension": ".py",
   "mimetype": "text/x-python",
   "name": "python",
   "nbconvert_exporter": "python",
   "pygments_lexer": "ipython3",
   "version": "3.12.7"
  }
 },
 "nbformat": 4,
 "nbformat_minor": 5
}
